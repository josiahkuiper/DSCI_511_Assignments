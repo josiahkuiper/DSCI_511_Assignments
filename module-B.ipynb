{
 "cells": [
  {
   "cell_type": "markdown",
   "metadata": {},
   "source": [
    "# Assignment Group 1\n"
   ]
  },
  {
   "cell_type": "markdown",
   "metadata": {},
   "source": [
    "## Module B _(23 points)_\n",
    "\n",
    "__B1.__ _(5 points)_ You will be using part of the [Goodbooks 10k dataset](https://github.com/zygmuntz/goodbooks-10k) for this module. Read the `data/goodreads-books.csv` file into a list. Create a dictionary for each book in the list that contains these fields: authors, original title, original publication year, average rating, and ratings count. (You should convert average rating and ratings count into `float` and `int` types.) Put all these metadata dictionaries into a list. "
   ]
  },
  {
   "cell_type": "code",
   "execution_count": 1,
   "metadata": {},
   "outputs": [
    {
     "name": "stdout",
     "output_type": "stream",
     "text": [
      "{'Author': 'Suzanne Collins', 'Original Title': 'The Hunger Games', 'Original Publication Year': '2008.0', 'Average Rating': 4.34, 'Ratings Count': 4780653}\n"
     ]
    }
   ],
   "source": [
    "import csv\n",
    "\n",
    "# This opens the file as a list of lists. Each sub-list contains:\n",
    "\n",
    "# 0'book_id', \n",
    "# 1'goodreads_book_id',\n",
    "# 2'best_book_id', \n",
    "# 3'work_id', \n",
    "# 4'books_count', \n",
    "# 5'isbn', \n",
    "# 6'isbn13', \n",
    "# 7'authors', \n",
    "# 8'original_publication_year', \n",
    "# 9'original_title', \n",
    "# 10'title', \n",
    "# 11'language_code', \n",
    "# 12'average_rating', \n",
    "# 13'ratings_count', \n",
    "# 14'work_ratings_count', \n",
    "# 15'work_text_reviews_count', \n",
    "# 16'ratings_1', \n",
    "# 17'ratings_2', \n",
    "# 18'ratings_3', \n",
    "# 19'ratings_4', \n",
    "# 20'ratings_5', \n",
    "# 21'image_url', \n",
    "# 22'small_image_url'\n",
    "\n",
    "\n",
    "# Note to self: get rid of header to convert appropriate fields to ints and floats\n",
    "with open(\"data/goodreads-books.csv\", newline='', encoding='utf-8') as fileHandle:\n",
    "    filereader = csv.reader(fileHandle)\n",
    "    next(filereader)\n",
    "    goodbooks = list(filereader)\n",
    "\n",
    "books = []\n",
    "for item in goodbooks:\n",
    "    author = item[7]\n",
    "    o_title = item[9]\n",
    "    o_pub_yr = item[8]\n",
    "    av_rat = float(item[12])\n",
    "    rat_ct = int(item[13])\n",
    "    books.append({'Author': author,\n",
    "        'Original Title': o_title,\n",
    "        'Original Publication Year': o_pub_yr,\n",
    "        'Average Rating': av_rat,\n",
    "        'Ratings Count': rat_ct})\n",
    "print(books[0])"
   ]
  },
  {
   "cell_type": "markdown",
   "metadata": {},
   "source": [
    "__B2.__ _(4 points)_ Write a function to sort this list of book metadata in descending order of average rating. The function should take the list of metadata dictionaries as an input argument. "
   ]
  },
  {
   "cell_type": "code",
   "execution_count": 2,
   "metadata": {},
   "outputs": [],
   "source": [
    "def sort_by_av_rat(metadata_list):\n",
    "    sorted_by_av_rat = sorted(metadata_list, reverse = True, key = lambda x: x['Average Rating'])\n",
    "    yield(sorted_by_av_rat)"
   ]
  },
  {
   "cell_type": "markdown",
   "metadata": {},
   "source": [
    "__B3.__ _(5 points)_ Update the function to take two arguments: the list, and an integer value for minimum ratings count. The function should now sort _and_ filter the list, returning a list of books sorted by average rating that have been rated by more than a specified number of users. You can use three different approaches: loops, comprehensions, and the built-in `filter()` function (look up documentation and examples). "
   ]
  },
  {
   "cell_type": "code",
   "execution_count": 3,
   "metadata": {},
   "outputs": [
    {
     "name": "stdout",
     "output_type": "stream",
     "text": [
      "[{'Author': 'J.K. Rowling, Mary GrandPré', 'Original Title': \"Harry Potter and the Philosopher's Stone\", 'Original Publication Year': '1997.0', 'Average Rating': 4.44, 'Ratings Count': 4602479}, {'Author': 'Suzanne Collins', 'Original Title': 'The Hunger Games', 'Original Publication Year': '2008.0', 'Average Rating': 4.34, 'Ratings Count': 4780653}]\n"
     ]
    }
   ],
   "source": [
    "def sort_by_av_rat_and_filter(metadata_list, min_ratings):\n",
    "    # Will remove all books below min_ratings for ratings count and then sort by average rating\n",
    "    metadata_list_mod = []\n",
    "    for book in metadata_list:\n",
    "        if book['Ratings Count'] > min_ratings:\n",
    "            # This might cause an error\n",
    "            metadata_list_mod.append(book)\n",
    "        else:\n",
    "            continue\n",
    "        sorted_by_av_rat = sorted(metadata_list_mod, reverse = True, key = lambda x: x['Average Rating'])\n",
    "    yield(sorted_by_av_rat)\n",
    "\n",
    "#test run\n",
    "for book in sort_by_av_rat_and_filter(books, 4000000):\n",
    "    print(book)"
   ]
  },
  {
   "cell_type": "markdown",
   "metadata": {},
   "source": [
    "__B4:__ _(7 points)_ Now use the other two approaches to create different versions of the function. See if you can condense your code into a single line for some of the approaches! "
   ]
  },
  {
   "cell_type": "code",
   "execution_count": 4,
   "metadata": {},
   "outputs": [
    {
     "name": "stdout",
     "output_type": "stream",
     "text": [
      "[{'Author': 'J.K. Rowling, Mary GrandPré', 'Original Title': \"Harry Potter and the Philosopher's Stone\", 'Original Publication Year': '1997.0', 'Average Rating': 4.44, 'Ratings Count': 4602479}, {'Author': 'Suzanne Collins', 'Original Title': 'The Hunger Games', 'Original Publication Year': '2008.0', 'Average Rating': 4.34, 'Ratings Count': 4780653}, {'Author': 'Harper Lee', 'Original Title': 'To Kill a Mockingbird', 'Original Publication Year': '1960.0', 'Average Rating': 4.25, 'Ratings Count': 3198671}, {'Author': 'Stephenie Meyer', 'Original Title': 'Twilight', 'Original Publication Year': '2005.0', 'Average Rating': 3.57, 'Ratings Count': 3866839}]\n"
     ]
    }
   ],
   "source": [
    "# The .filter() Method\n",
    "def sort_and_filter(mdl, min_ratings):\n",
    "    filtered_books = filter(lambda x: x['Ratings Count']> min_ratings, mdl)\n",
    "    sorted_by_av_rat = sorted(filtered_books, reverse = True, key = lambda x: x['Average Rating'])\n",
    "    yield(sorted_by_av_rat)\n",
    "\n",
    "# To test that it works\n",
    "for book in sort_and_filter(books, 3000000):\n",
    "    print(book)"
   ]
  },
  {
   "cell_type": "code",
   "execution_count": 5,
   "metadata": {},
   "outputs": [
    {
     "name": "stdout",
     "output_type": "stream",
     "text": [
      "{'Author': 'J.K. Rowling, Mary GrandPré', 'Original Title': \"Harry Potter and the Philosopher's Stone\", 'Original Publication Year': '1997.0', 'Average Rating': 4.44, 'Ratings Count': 4602479}\n",
      "{'Author': 'Suzanne Collins', 'Original Title': 'The Hunger Games', 'Original Publication Year': '2008.0', 'Average Rating': 4.34, 'Ratings Count': 4780653}\n",
      "{'Author': 'Harper Lee', 'Original Title': 'To Kill a Mockingbird', 'Original Publication Year': '1960.0', 'Average Rating': 4.25, 'Ratings Count': 3198671}\n",
      "{'Author': 'Stephenie Meyer', 'Original Title': 'Twilight', 'Original Publication Year': '2005.0', 'Average Rating': 3.57, 'Ratings Count': 3866839}\n"
     ]
    }
   ],
   "source": [
    "# List comprehension Method\n",
    "def sort_by_av_rat_and_filter(metadata_list, min_ratings):\n",
    "    sorted_by_av_rat = sorted([book for book in metadata_list if book['Ratings Count'] > min_ratings], reverse = True, key = lambda x: x['Average Rating'])\n",
    "    # I decided to return because I want to be able to measure the length of a list comprension using this function later on\n",
    "    return(sorted_by_av_rat)\n",
    "    \n",
    "# To test that it works\n",
    "for book in sort_by_av_rat_and_filter(books, 3000000):\n",
    "    print(book)"
   ]
  },
  {
   "cell_type": "markdown",
   "metadata": {},
   "source": [
    "__B5.__ _(2 points)_ Why is using a function for this task prudent? What do you think is an acceptable minimum ratings count? Answer these questiions in the response box below."
   ]
  },
  {
   "cell_type": "markdown",
   "metadata": {},
   "source": [
    "Response\n",
    "\n",
    "There are several reasons why using a funciton is prudent. First, using a funciton is prudent because it can be applied to the list of books even if the list is modified, or it could easily be applied to another set of books; just put the name of that list as an argument. Secondly, one can pull up multiple lists of books by minimum ratings count at a time without typing (or copying/pasting) the code again and again.\n",
    "\n",
    "The acceptable minimum ratings count would probably depend on your goals or personal preference. To see the most popular books, one might choose a very high minimum ratings, like 3,000,000. To get a 'Top 10' or 'Top 100' books list, one would want a balanced level of reviews. What is a balanced number? Below, I calculated the mean number of rating counts, to get a frame of reference:"
   ]
  },
  {
   "cell_type": "code",
   "execution_count": 6,
   "metadata": {},
   "outputs": [
    {
     "name": "stdout",
     "output_type": "stream",
     "text": [
      "54001.2351\n"
     ]
    }
   ],
   "source": [
    "import numpy as np\n",
    "rating_counts = [book['Ratings Count'] for book in books]\n",
    "print(np.mean(rating_counts))"
   ]
  },
  {
   "cell_type": "markdown",
   "metadata": {},
   "source": [
    "So one approach would be to say that the average book has about 54,000 reviews, so to be fair, a book should have at least half the mean number of reviews, or about 27,000.\n",
    "\n",
    "Another factor to consider is the length of the list. Perhaps it would be best to sort the top 100 most popular (or most reviewed) books in order of their ratings? Let's see how long some of these lists would be:"
   ]
  },
  {
   "cell_type": "code",
   "execution_count": 7,
   "metadata": {},
   "outputs": [
    {
     "name": "stdout",
     "output_type": "stream",
     "text": [
      "3878 books are listed with 27000 reviews.\n",
      "1848 books are listed with 54000 reviews.\n",
      "100 books are listed with 560000 reviews.\n"
     ]
    }
   ],
   "source": [
    "print(str(len([book for book in sort_by_av_rat_and_filter(books, 27000)])) + \" books are listed with 27000 reviews.\")\n",
    "print(str(len([book for book in sort_by_av_rat_and_filter(books, 54000)])) + \" books are listed with 54000 reviews.\")\n",
    "print(str(len([book for book in sort_by_av_rat_and_filter(books, 560000)])) + \" books are listed with 560000 reviews.\")"
   ]
  },
  {
   "cell_type": "markdown",
   "metadata": {},
   "source": [
    "So, really, the appropriate number of reviews depends on your purposes for the data. Personally, I would consider any book rating based on half the average number of reviews (27,000 reviews) to have an accurate or fair rating."
   ]
  }
 ],
 "metadata": {
  "kernelspec": {
   "display_name": "Python 3",
   "language": "python",
   "name": "python3"
  },
  "language_info": {
   "codemirror_mode": {
    "name": "ipython",
    "version": 3
   },
   "file_extension": ".py",
   "mimetype": "text/x-python",
   "name": "python",
   "nbconvert_exporter": "python",
   "pygments_lexer": "ipython3",
   "version": "3.7.1"
  }
 },
 "nbformat": 4,
 "nbformat_minor": 2
}
