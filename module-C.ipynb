{
 "cells": [
  {
   "cell_type": "markdown",
   "metadata": {},
   "source": [
    "# Assignment Group 1"
   ]
  },
  {
   "cell_type": "markdown",
   "metadata": {},
   "source": [
    "## Problem C _(50 points)_\n",
    "\n",
    "This problem deals with finding \"pangrams\" in text. A pangram is a sentence containing all 26 letters of the alphabet. `x` and `y` in the cell below are example sentences, `x` is a pangram, `y` is not."
   ]
  },
  {
   "cell_type": "code",
   "execution_count": 1,
   "metadata": {},
   "outputs": [],
   "source": [
    "x = \"Jim quickly realized that the beautiful gowns are expensive.\"\n",
    "y = \"This sentence is most certainly not a pangram.\""
   ]
  },
  {
   "cell_type": "markdown",
   "metadata": {},
   "source": [
    "__C1.__ _(5 points)_ Define a generator function, `indices()`, that takes a string as input and outputs the index numbers where a letter occurs for the first time in the string. [__Hint:__ you can compare letters like numbers. For example, `char >= \"a\"` is a valid conditional statement. You can use this to check whether characters in a string are letters.] "
   ]
  },
  {
   "cell_type": "code",
   "execution_count": 8,
   "metadata": {},
   "outputs": [],
   "source": [
    "# def indices(word):\n",
    "#     word_dict = {}\n",
    "#     index = 1\n",
    "#     for letter in word:\n",
    "#         word_dict[letter] = index\n",
    "#         index +=1\n",
    "#     return(word_dict)\n",
    "\n",
    "def indices(word):\n",
    "    alphabet = {'a': 1, 'b': 2, 'c': 3, 'd': 4, 'e': 5, 'f': 6, 'g': 7, 'h': 8, 'i': 9, 'j': 10, 'k': 11, 'l': 12, 'm': 13, 'n': 14, 'o': 15, 'p': 16, 'q': 17, 'r': 18, 's': 19, 't': 20, 'u': 21, 'v': 22, 'w': 23, 'x': 24, 'y': 25, 'z': 26}\n",
    "    word_dict = {}\n",
    "    letters = [l for l in word.lower() if l.isalpha()]\n",
    "    for char in letters:\n",
    "        word_dict[char] = alphabet[char]\n",
    "    yield(word_dict)"
   ]
  },
  {
   "cell_type": "markdown",
   "metadata": {},
   "source": [
    "__C2.__ _(3 points)_ Define a function, `verify()`, that takes a string as input and uses the `indices()` function to check if the string is a pangram. The output should be boolean `True` or `False`. "
   ]
  },
  {
   "cell_type": "code",
   "execution_count": 9,
   "metadata": {},
   "outputs": [
    {
     "name": "stdout",
     "output_type": "stream",
     "text": [
      "True\n",
      "False\n"
     ]
    }
   ],
   "source": [
    "def verify(s): return(True if len([letter for letter in indices(s)][0])==26 else False)\n",
    "\n",
    "print(verify(\"abcdefghijklmnopqrst'uvwxyz\"))\n",
    "print(verify(\"abc\"))"
   ]
  },
  {
   "cell_type": "markdown",
   "metadata": {},
   "source": [
    "__C3:__ _(2 points)_ Write a version of `verify()` named `tiny_verify()` that performs the check in a single line of code, without using `indices()`. [__Hint:__ Use a comprehension.] "
   ]
  },
  {
   "cell_type": "code",
   "execution_count": 10,
   "metadata": {},
   "outputs": [
    {
     "name": "stdout",
     "output_type": "stream",
     "text": [
      "True\n",
      "False\n",
      "True\n",
      "False\n"
     ]
    }
   ],
   "source": [
    "#Here it is\n",
    "def tiny_verify(s): return(True if len(set([letter.lower() for letter in [l for l in s if l.isalpha()]]))==26 else False)\n",
    "\n",
    "# Test with all letters should return True\n",
    "print(tiny_verify(\"abcdefghijklmnopqrstuvwxyz\"))\n",
    "\n",
    "# Test with only a few letters should return false\n",
    "print(tiny_verify(\"abc\"))\n",
    "\n",
    "# Test with capital/lowercase duplicates should return True\n",
    "print(tiny_verify(\"abCcdEefghijklmnopqrstu...vw'xyz\"))\n",
    "\n",
    "# Test with capital/lowercase duplicates missing the letter 'a' should return False\n",
    "print(tiny_verify(\"bCcdEefghijklmnopqrstuvwxyz\"))"
   ]
  },
  {
   "cell_type": "markdown",
   "metadata": {},
   "source": [
    "__C4.__ _(5 points)_ Modify the `verify()` function to figure out which letters (if any) are missing from a purported pangram. This version should return the list of missing letters instead of a boolean value. [__Hint:__ You can get a string containing all the letters of the alphabet by importing `ascii_lowercase` from the `string` module.] "
   ]
  },
  {
   "cell_type": "code",
   "execution_count": 11,
   "metadata": {},
   "outputs": [
    {
     "data": {
      "text/plain": [
       "True"
      ]
     },
     "execution_count": 11,
     "metadata": {},
     "output_type": "execute_result"
    }
   ],
   "source": [
    "import string\n",
    "def verify(s): return(True if len(set([letter.lower() for letter in s if letter.lower() >= 'a' and letter.lower().isalpha()]))==26 else set(string.ascii_lowercase) - set([letter.lower() for letter in s]))\n",
    "verify(\"A wizard's job is to vex chumps quickly in fog.\")"
   ]
  },
  {
   "cell_type": "markdown",
   "metadata": {},
   "source": [
    "__C5.__ _(5 points)_ Load and iterate through the collected [list of pangrams](http://clagnut.com/blog/2380/) in `data/pangrams.txt` line by line and determine if they are actually pangrams. Print out any lines that are not actually pangrams, and also the letters that are missing. "
   ]
  },
  {
   "cell_type": "code",
   "execution_count": 12,
   "metadata": {},
   "outputs": [
    {
     "name": "stdout",
     "output_type": "stream",
     "text": [
      "Show mangled quartz flip vibe exactly.\n",
      "{'k', 'j'}\n",
      "Unamazingly, this six-word pangram is questionable!\n",
      "{'v', 'c', 'j', 'k', 'f'}\n"
     ]
    }
   ],
   "source": [
    "with open('data/pangrams.txt', 'r', encoding = 'utf8') as panagram_txt:\n",
    "    pgm = [line.strip('\\n') for line in panagram_txt]\n",
    "\n",
    "for line in pgm:\n",
    "    l = str(line)\n",
    "    if verify(l) == True:\n",
    "        continue\n",
    "    else:\n",
    "        print(l)\n",
    "        print(verify(l))"
   ]
  },
  {
   "cell_type": "markdown",
   "metadata": {},
   "source": [
    "__C6:__ _(3 points)_ Use the output from the `verify()` function to fix (by any means necessary) the failed pangrams, and verify that you have fixed them. "
   ]
  },
  {
   "cell_type": "code",
   "execution_count": 13,
   "metadata": {},
   "outputs": [
    {
     "name": "stdout",
     "output_type": "stream",
     "text": [
      "Show mangled quartz flip vibe exactly.abcdefghijklmnopqrstuvwxyz\n",
      "Has it become a pangram? True\n",
      "Unamazingly, this six-word pangram is questionable!abcdefghijklmnopqrstuvwxyz\n",
      "Has it become a pangram? True\n"
     ]
    }
   ],
   "source": [
    "with open('data/pangrams.txt', 'r', encoding = 'utf8') as panagram_txt:\n",
    "    pgm = [line.strip('\\n') for line in panagram_txt]\n",
    "\n",
    "for line in pgm:\n",
    "    l = str(line)\n",
    "    if verify(l) == True:\n",
    "        continue\n",
    "    else:\n",
    "        lnew = l + 'abcdefghijklmnopqrstuvwxyz'\n",
    "    print(lnew)\n",
    "    print(\"Has it become a pangram? \" + str(verify(lnew)))"
   ]
  },
  {
   "cell_type": "markdown",
   "metadata": {},
   "source": [
    "__C7.__ _(5 points)_ In the cell below are provided some information about a set of books. Create a data object that holds the book numbers and titles associated to each authors's name. Write this out as a JSON file in the `data/books/` directory using the following schema. \n",
    "\n",
    "```\n",
    "books = {\n",
    "    AuthorName: {\n",
    "        BookNumber: BookTitle,\n",
    "        ...\n",
    "    },\n",
    "    ...\n",
    "}\n",
    "```"
   ]
  },
  {
   "cell_type": "code",
   "execution_count": 2,
   "metadata": {},
   "outputs": [],
   "source": [
    "# 84.txt; Frankenstein, or the Modern Prometheus; Mary Wollstonecraft (Godwin) Shelley\n",
    "# 98.txt; A Tale of Two Cities; Charles Dickens \n",
    "# 161.txt; Sense and Sensibility; Jane Austen\n",
    "# 730.txt; Oliver Twist or the Parish Boy's Progress; Charles Dickens\n",
    "# 768.txt; Wuthering Heights; Emily Brontë\n",
    "# 1322.txt; Leaves of Grass; Walt Whitman\n",
    "# 1342.txt; Pride and Prejudice; Jane Austen\n",
    "# 1400.txt; Great Expectations; Charles Dickens\n",
    "# 2701.txt; Moby Dick; or the Whale; Herman Melville\n",
    "# 4300.txt; Ulysses; James Joyce"
   ]
  },
  {
   "cell_type": "code",
   "execution_count": 14,
   "metadata": {},
   "outputs": [
    {
     "name": "stdout",
     "output_type": "stream",
     "text": [
      "{'Charles Dickens': {'98.txt': 'A Tale of Two Cities', '1400.txt': 'Great Expectations', '730.txt': \"Oliver Twist or the Parish Boy's Progress\"}, 'Mary Wollstonecraft (Godwin) Shelley': {'84.txt': 'Frankenstein, or the Modern Prometheus'}, 'Jane Austen': {'161.txt': 'Sense and Sensibility', '1342.txt': 'Pride and Prejudice'}, 'Emily Brontë': {'768.txt': 'Wuthering Height'}, 'Walt Whitman': {'1322.txt': 'Leaves of Grass'}, 'Herman Melville': {'2701.txt': 'Moby Dick; or the Whale'}, 'James Joyce': {'4300.txt': 'Ulysses'}}\n"
     ]
    }
   ],
   "source": [
    "import json\n",
    "\n",
    "books = {\"Charles Dickens\":{\"98.txt\": \"A Tale of Two Cities\", \"1400.txt\":\"Great Expectations\", \"730.txt\":\"Oliver Twist or the Parish Boy's Progress\"},\n",
    "         \"Mary Wollstonecraft (Godwin) Shelley\":{\"84.txt\": \"Frankenstein, or the Modern Prometheus\"},\n",
    "         \"Jane Austen\":{\"161.txt\": \"Sense and Sensibility\", \"1342.txt\":\"Pride and Prejudice\"},\n",
    "         \"Emily Brontë\":{\"768.txt\": \"Wuthering Height\"},\n",
    "         \"Walt Whitman\":{\"1322.txt\": \"Leaves of Grass\"},\n",
    "         \"Herman Melville\":{\"2701.txt\": \"Moby Dick; or the Whale\"},\n",
    "         \"James Joyce\":{\"4300.txt\": \"Ulysses\"},\n",
    "        }\n",
    "\n",
    "with open(\"data/books/dictionary_test.json\", 'w') as my_file_handle:\n",
    "    JSON_data = json.dumps(books)\n",
    "    my_file_handle.write(JSON_data)\n",
    "\n",
    "with open(\"data/books/dictionary_test.json\", 'r') as file:\n",
    "    JSON_data = file.read()\n",
    "    my_data = json.loads(JSON_data)\n",
    "\n",
    "print(my_data)"
   ]
  },
  {
   "cell_type": "markdown",
   "metadata": {},
   "source": [
    "__C8.__ _(7 points)_ Write a function, `get_pangrams()`, that takes a book number and outputs a list of the book's pangram sentences and the total number of sentences in the book. You will need to use the `re` (regular expressions) module to split the book text into sentences using the `re.split(pattern, string)` function. The pattern you will need is `\"[\\.\\?\\!][^a-zA-Z]\"`. "
   ]
  },
  {
   "cell_type": "code",
   "execution_count": 19,
   "metadata": {},
   "outputs": [
    {
     "name": "stdout",
     "output_type": "stream",
     "text": [
      "(8466, ['Every town-gate and village taxing-house had its band of\\ncitizen-patriots, with their national muskets in a most explosive state\\nof readiness, who stopped all comers and goers, cross-questioned them,\\ninspected their papers, looked for their names in lists of their own,\\nturned them back, or sent them on, or stopped them and laid them in\\nhold, as their capricious judgment or fancy deemed best for the dawning\\nRepublic One and Indivisible, of Liberty, Equality, Fraternity, or\\nDeath'])\n"
     ]
    }
   ],
   "source": [
    "import re\n",
    "\n",
    "def get_pangrams(book):\n",
    "    with open(\"data/books/\"+book, \"r\") as book:\n",
    "        book_split = re.split(\"[\\.\\?\\!][^a-zA-Z]\", book.read())\n",
    "        return(len(book_split), [sentence.strip('\\n') for sentence in book_split  if verify(sentence) == True])\n",
    "\n",
    "print(get_pangrams(\"98.txt\"))"
   ]
  },
  {
   "cell_type": "markdown",
   "metadata": {},
   "source": [
    "__C9.__ _(8 points)_ Determine who is the pangrammiest author and what the pangrammiest book is, as determined by most pangrams per sentence. [__Hint:__ Use `defaultdict`s to create \"pangrams by author\" and \"pangrams by book\" objects.] "
   ]
  },
  {
   "cell_type": "code",
   "execution_count": null,
   "metadata": {},
   "outputs": [],
   "source": []
  },
  {
   "cell_type": "markdown",
   "metadata": {},
   "source": [
    "__C10.__ _(7 points)_ Print out the most efficient pangram and its author and book, as determined by fewest characters per pangram. "
   ]
  },
  {
   "cell_type": "code",
   "execution_count": null,
   "metadata": {},
   "outputs": [],
   "source": []
  }
 ],
 "metadata": {
  "kernelspec": {
   "display_name": "Python 3",
   "language": "python",
   "name": "python3"
  },
  "language_info": {
   "codemirror_mode": {
    "name": "ipython",
    "version": 3
   },
   "file_extension": ".py",
   "mimetype": "text/x-python",
   "name": "python",
   "nbconvert_exporter": "python",
   "pygments_lexer": "ipython3",
   "version": "3.7.1"
  }
 },
 "nbformat": 4,
 "nbformat_minor": 2
}
